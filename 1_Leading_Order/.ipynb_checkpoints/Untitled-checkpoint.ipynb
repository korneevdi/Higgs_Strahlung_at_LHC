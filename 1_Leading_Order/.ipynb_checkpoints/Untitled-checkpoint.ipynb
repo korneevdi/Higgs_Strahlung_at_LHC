{
 "cells": [
  {
   "cell_type": "code",
   "execution_count": 4,
   "id": "a1b77745",
   "metadata": {},
   "outputs": [],
   "source": [
    "import math\n",
    "import random\n",
    "import numpy as np"
   ]
  },
  {
   "cell_type": "markdown",
   "id": "fed14d25",
   "metadata": {},
   "source": [
    "## Phasespace point"
   ]
  },
  {
   "cell_type": "markdown",
   "id": "2e22fdaa",
   "metadata": {},
   "source": [
    "### 1. Set"
   ]
  },
  {
   "cell_type": "code",
   "execution_count": 5,
   "id": "86390332",
   "metadata": {},
   "outputs": [
    {
     "name": "stdout",
     "output_type": "stream",
     "text": [
      "p1 =\n",
      "[[6000.]\n",
      " [   0.]\n",
      " [   0.]\n",
      " [6000.]]\n",
      "p2 =\n",
      "[[ 6000.]\n",
      " [    0.]\n",
      " [    0.]\n",
      " [-6000.]]\n",
      "p3 =\n",
      "[[2999.847           ]\n",
      " [ 196.67638752360335]\n",
      " [1604.7445377115023 ]\n",
      " [2526.894416212273  ]]\n",
      "p4 =\n",
      "[[ 2999.847           ]\n",
      " [ -142.21548427790685]\n",
      " [-1303.8742079406288 ]\n",
      " [-8518.101151780427  ]]\n",
      "pV =\n",
      "[[ 5999.694           ]\n",
      " [   54.4609032456965 ]\n",
      " [  300.87032977087347]\n",
      " [-5991.206735568155  ]]\n",
      "pH =\n",
      "[[6000.306           ]\n",
      " [ -54.4609032456965 ]\n",
      " [-300.87032977087347]\n",
      " [5991.206735568155  ]]\n"
     ]
    }
   ],
   "source": [
    "sqrt_s = 12000\n",
    "s = sqrt_s**2\n",
    "mH = 125.0\n",
    "mV = 91.0\n",
    "\n",
    "p1 = np.zeros((4, 1))\n",
    "p2 = np.zeros((4, 1))\n",
    "p3 = np.zeros((4, 1))\n",
    "p4 = np.zeros((4, 1))\n",
    "pV = np.zeros((4, 1))\n",
    "pH = np.zeros((4, 1))\n",
    "\n",
    "p1[0] = sqrt_s/2\n",
    "p1[3] = sqrt_s/2\n",
    "p2[0] = sqrt_s/2\n",
    "p2[3] = -sqrt_s/2\n",
    "\n",
    "pV[0] = (s - mH**2 + mV**2)/(2*sqrt_s)\n",
    "pH[0] = (s + mH**2 - mV**2)/(2*sqrt_s)\n",
    "\n",
    "Y = (s + mH**2 - mV**2)**2 / (4*s) - mH**2\n",
    "pV[1] = random.uniform(-math.sqrt(Y), math.sqrt(Y))\n",
    "pH[1] = -pV[1]\n",
    "pV[2] = random.uniform(-math.sqrt(Y - (pV[1])**2), math.sqrt(Y - (pV[1])**2))\n",
    "pH[2] = -pV[2]\n",
    "n = random.uniform(-1, 1)\n",
    "if n <= 0:\n",
    "    pV[3] = -math.sqrt(Y - (pV[1])**2 - (pV[2])**2)\n",
    "else:\n",
    "    pV[3] = math.sqrt(Y - (pV[1])**2 - (pV[2])**2)\n",
    "pH[3] = -pV[3]\n",
    "\n",
    "p3[0] = pV[0]/2\n",
    "p4[0] = pV[0]/2\n",
    "p3[1] = random.uniform(-p3[0], p3[0])\n",
    "p4[1] = pV[1] - p3[1]\n",
    "p3[2] = random.uniform(-math.sqrt((p3[0])**2 - (p3[1])**2), math.sqrt((p3[0])**2 - (p3[1])**2))\n",
    "p4[2] = pV[2] - p3[2]\n",
    "n = random.uniform(-1, 1)\n",
    "if n <= 0:\n",
    "    p3[3] = -math.sqrt((p3[0])**2 - (p3[1])**2 - (p3[2])**2)\n",
    "else:\n",
    "    p3[3] = math.sqrt((p3[0])**2 - (p3[1])**2 - (p3[2])**2)\n",
    "p4[3] = pV[3] - p3[3]\n",
    "\n",
    "np.set_printoptions(precision = 15)\n",
    "\n",
    "print(\"p1 =\")\n",
    "print(p1)\n",
    "print(\"p2 =\")\n",
    "print(p2)\n",
    "print(\"p3 =\")\n",
    "print(p3)\n",
    "print(\"p4 =\")\n",
    "print(p4)\n",
    "print(\"pV =\")\n",
    "print(pV)\n",
    "print(\"pH =\")\n",
    "print(pH)"
   ]
  },
  {
   "cell_type": "markdown",
   "id": "726d3959",
   "metadata": {},
   "source": [
    "### 2. Test"
   ]
  },
  {
   "cell_type": "code",
   "execution_count": 54,
   "id": "add9b5c4",
   "metadata": {},
   "outputs": [
    {
     "name": "stdout",
     "output_type": "stream",
     "text": [
      "Squared masses\n",
      "p1^2 =  [0.]\n",
      "p2^2 =  [0.]\n",
      "mV^2 =  8281.0\n",
      "pV^2 =  [8281.00000000745]\n",
      "mH^2 =  15625.0\n",
      "pH^2 =  [15625.]\n",
      "Momentum conservation law\n",
      "p1[0] + p2[0] - pV[0] - pH[0] =  [0.]\n",
      "p1[1] + p2[1] - pV[1] - pH[1] =  [0.]\n",
      "p1[2] + p2[2] - pV[2] - pH[2] =  [0.]\n",
      "p1[3] + p2[3] - pV[3] - pH[3] =  [0.]\n"
     ]
    }
   ],
   "source": [
    "print(\"Squared masses\")\n",
    "# incoming quarks\n",
    "print(\"p1^2 = \", (p1[0])**2 - (p1[1])**2 - (p1[2])**2 - (p1[3])**2)\n",
    "print(\"p2^2 = \", (p2[0])**2 - (p2[1])**2 - (p2[2])**2 - (p2[3])**2)\n",
    "\n",
    "# Weak boson\n",
    "print(\"mV^2 = \", mV**2)\n",
    "print(\"pV^2 = \", (pV[0])**2 - (pV[1])**2 - (pV[2])**2 - (pV[3])**2)\n",
    "\n",
    "# Leptons\n",
    "print(\"p3^2 = \", (p3[0])**2 - (p3[1])**2 - (p3[2])**2 - (p3[3])**2)\n",
    "print(\"p4^2 = \", (p4[0])**2 - (p4[1])**2 - (p4[2])**2 - (p4[3])**2)\n",
    "\n",
    "# Higgs\n",
    "print(\"mH^2 = \", mH**2)\n",
    "print(\"pH^2 = \", (pH[0])**2 - (pH[1])**2 - (pH[2])**2 - (pH[3])**2)\n",
    "\n",
    "np.set_printoptions(precision = 15)\n",
    "\n",
    "print(\"Momentum conservation law\")\n",
    "print(\"p1[0] + p2[0] - pV[0] - pH[0] = \", p1[0] + p2[0] - pV[0] - pH[0])\n",
    "print(\"p1[1] + p2[1] - pV[1] - pH[1] = \", p1[1] + p2[1] - pV[1] - pH[1])\n",
    "print(\"p1[2] + p2[2] - pV[2] - pH[2] = \", p1[2] + p2[2] - pV[2] - pH[2])\n",
    "print(\"p1[3] + p2[3] - pV[3] - pH[3] = \", p1[3] + p2[3] - pV[3] - pH[3])"
   ]
  },
  {
   "cell_type": "code",
   "execution_count": null,
   "id": "e59bc17d",
   "metadata": {},
   "outputs": [],
   "source": []
  }
 ],
 "metadata": {
  "kernelspec": {
   "display_name": "Python 3 (ipykernel)",
   "language": "python",
   "name": "python3"
  },
  "language_info": {
   "codemirror_mode": {
    "name": "ipython",
    "version": 3
   },
   "file_extension": ".py",
   "mimetype": "text/x-python",
   "name": "python",
   "nbconvert_exporter": "python",
   "pygments_lexer": "ipython3",
   "version": "3.11.2"
  }
 },
 "nbformat": 4,
 "nbformat_minor": 5
}
